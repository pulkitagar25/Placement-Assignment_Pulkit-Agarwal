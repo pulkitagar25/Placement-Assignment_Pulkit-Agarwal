{
 "cells": [
  {
   "cell_type": "code",
   "execution_count": 1,
   "metadata": {},
   "outputs": [],
   "source": [
    "import pandas as pd\n",
    "import numpy as np \n",
    "from sklearn.model_selection import train_test_split\n",
    "from sklearn.feature_extraction.text import CountVectorizer\n",
    "from sklearn import metrics\n",
    "from sklearn.pipeline import Pipeline\n",
    "from sklearn.feature_extraction.text import TfidfVectorizer\n",
    "from sklearn.naive_bayes import MultinomialNB\n",
    "from sklearn.linear_model import LogisticRegression\n",
    "from sklearn.neighbors import KNeighborsClassifier\n",
    "from sklearn.ensemble import RandomForestClassifier"
   ]
  },
  {
   "cell_type": "code",
   "execution_count": 3,
   "metadata": {},
   "outputs": [],
   "source": [
    "data = pd.read_json(\"News_Category_Dataset_v3.json\", lines=True)"
   ]
  },
  {
   "cell_type": "code",
   "execution_count": 4,
   "metadata": {},
   "outputs": [
    {
     "data": {
      "text/html": [
       "<div>\n",
       "<style scoped>\n",
       "    .dataframe tbody tr th:only-of-type {\n",
       "        vertical-align: middle;\n",
       "    }\n",
       "\n",
       "    .dataframe tbody tr th {\n",
       "        vertical-align: top;\n",
       "    }\n",
       "\n",
       "    .dataframe thead th {\n",
       "        text-align: right;\n",
       "    }\n",
       "</style>\n",
       "<table border=\"1\" class=\"dataframe\">\n",
       "  <thead>\n",
       "    <tr style=\"text-align: right;\">\n",
       "      <th></th>\n",
       "      <th>link</th>\n",
       "      <th>headline</th>\n",
       "      <th>category</th>\n",
       "      <th>short_description</th>\n",
       "      <th>authors</th>\n",
       "      <th>date</th>\n",
       "    </tr>\n",
       "  </thead>\n",
       "  <tbody>\n",
       "    <tr>\n",
       "      <th>0</th>\n",
       "      <td>https://www.huffpost.com/entry/covid-boosters-...</td>\n",
       "      <td>Over 4 Million Americans Roll Up Sleeves For O...</td>\n",
       "      <td>U.S. NEWS</td>\n",
       "      <td>Health experts said it is too early to predict...</td>\n",
       "      <td>Carla K. Johnson, AP</td>\n",
       "      <td>2022-09-23</td>\n",
       "    </tr>\n",
       "    <tr>\n",
       "      <th>1</th>\n",
       "      <td>https://www.huffpost.com/entry/american-airlin...</td>\n",
       "      <td>American Airlines Flyer Charged, Banned For Li...</td>\n",
       "      <td>U.S. NEWS</td>\n",
       "      <td>He was subdued by passengers and crew when he ...</td>\n",
       "      <td>Mary Papenfuss</td>\n",
       "      <td>2022-09-23</td>\n",
       "    </tr>\n",
       "    <tr>\n",
       "      <th>2</th>\n",
       "      <td>https://www.huffpost.com/entry/funniest-tweets...</td>\n",
       "      <td>23 Of The Funniest Tweets About Cats And Dogs ...</td>\n",
       "      <td>COMEDY</td>\n",
       "      <td>\"Until you have a dog you don't understand wha...</td>\n",
       "      <td>Elyse Wanshel</td>\n",
       "      <td>2022-09-23</td>\n",
       "    </tr>\n",
       "    <tr>\n",
       "      <th>3</th>\n",
       "      <td>https://www.huffpost.com/entry/funniest-parent...</td>\n",
       "      <td>The Funniest Tweets From Parents This Week (Se...</td>\n",
       "      <td>PARENTING</td>\n",
       "      <td>\"Accidentally put grown-up toothpaste on my to...</td>\n",
       "      <td>Caroline Bologna</td>\n",
       "      <td>2022-09-23</td>\n",
       "    </tr>\n",
       "    <tr>\n",
       "      <th>4</th>\n",
       "      <td>https://www.huffpost.com/entry/amy-cooper-lose...</td>\n",
       "      <td>Woman Who Called Cops On Black Bird-Watcher Lo...</td>\n",
       "      <td>U.S. NEWS</td>\n",
       "      <td>Amy Cooper accused investment firm Franklin Te...</td>\n",
       "      <td>Nina Golgowski</td>\n",
       "      <td>2022-09-22</td>\n",
       "    </tr>\n",
       "  </tbody>\n",
       "</table>\n",
       "</div>"
      ],
      "text/plain": [
       "                                                link  \\\n",
       "0  https://www.huffpost.com/entry/covid-boosters-...   \n",
       "1  https://www.huffpost.com/entry/american-airlin...   \n",
       "2  https://www.huffpost.com/entry/funniest-tweets...   \n",
       "3  https://www.huffpost.com/entry/funniest-parent...   \n",
       "4  https://www.huffpost.com/entry/amy-cooper-lose...   \n",
       "\n",
       "                                            headline   category  \\\n",
       "0  Over 4 Million Americans Roll Up Sleeves For O...  U.S. NEWS   \n",
       "1  American Airlines Flyer Charged, Banned For Li...  U.S. NEWS   \n",
       "2  23 Of The Funniest Tweets About Cats And Dogs ...     COMEDY   \n",
       "3  The Funniest Tweets From Parents This Week (Se...  PARENTING   \n",
       "4  Woman Who Called Cops On Black Bird-Watcher Lo...  U.S. NEWS   \n",
       "\n",
       "                                   short_description               authors  \\\n",
       "0  Health experts said it is too early to predict...  Carla K. Johnson, AP   \n",
       "1  He was subdued by passengers and crew when he ...        Mary Papenfuss   \n",
       "2  \"Until you have a dog you don't understand wha...         Elyse Wanshel   \n",
       "3  \"Accidentally put grown-up toothpaste on my to...      Caroline Bologna   \n",
       "4  Amy Cooper accused investment firm Franklin Te...        Nina Golgowski   \n",
       "\n",
       "        date  \n",
       "0 2022-09-23  \n",
       "1 2022-09-23  \n",
       "2 2022-09-23  \n",
       "3 2022-09-23  \n",
       "4 2022-09-22  "
      ]
     },
     "execution_count": 4,
     "metadata": {},
     "output_type": "execute_result"
    }
   ],
   "source": [
    "data.head()"
   ]
  },
  {
   "cell_type": "code",
   "execution_count": 5,
   "metadata": {},
   "outputs": [
    {
     "name": "stdout",
     "output_type": "stream",
     "text": [
      "Total unique categories are: 42\n",
      "Count of occurance of each category:\n"
     ]
    },
    {
     "data": {
      "text/plain": [
       "POLITICS          35602\n",
       "WELLNESS          17945\n",
       "ENTERTAINMENT     17362\n",
       "TRAVEL             9900\n",
       "STYLE & BEAUTY     9814\n",
       "PARENTING          8791\n",
       "HEALTHY LIVING     6694\n",
       "QUEER VOICES       6347\n",
       "FOOD & DRINK       6340\n",
       "BUSINESS           5992\n",
       "COMEDY             5400\n",
       "SPORTS             5077\n",
       "BLACK VOICES       4583\n",
       "HOME & LIVING      4320\n",
       "PARENTS            3955\n",
       "THE WORLDPOST      3664\n",
       "WEDDINGS           3653\n",
       "WOMEN              3572\n",
       "CRIME              3562\n",
       "IMPACT             3484\n",
       "DIVORCE            3426\n",
       "WORLD NEWS         3299\n",
       "MEDIA              2944\n",
       "WEIRD NEWS         2777\n",
       "GREEN              2622\n",
       "WORLDPOST          2579\n",
       "RELIGION           2577\n",
       "STYLE              2254\n",
       "SCIENCE            2206\n",
       "TECH               2104\n",
       "TASTE              2096\n",
       "MONEY              1756\n",
       "ARTS               1509\n",
       "ENVIRONMENT        1444\n",
       "FIFTY              1401\n",
       "GOOD NEWS          1398\n",
       "U.S. NEWS          1377\n",
       "ARTS & CULTURE     1339\n",
       "COLLEGE            1144\n",
       "LATINO VOICES      1130\n",
       "CULTURE & ARTS     1074\n",
       "EDUCATION          1014\n",
       "Name: category, dtype: int64"
      ]
     },
     "execution_count": 5,
     "metadata": {},
     "output_type": "execute_result"
    }
   ],
   "source": [
    "print(f\"Total unique categories are: {len(data['category'].value_counts())}\")\n",
    "print(f\"Count of occurance of each category:\")\n",
    "data['category'].value_counts()"
   ]
  },
  {
   "cell_type": "code",
   "execution_count": 6,
   "metadata": {},
   "outputs": [
    {
     "data": {
      "text/plain": [
       "link                 0\n",
       "headline             0\n",
       "category             0\n",
       "short_description    0\n",
       "authors              0\n",
       "date                 0\n",
       "dtype: int64"
      ]
     },
     "execution_count": 6,
     "metadata": {},
     "output_type": "execute_result"
    }
   ],
   "source": [
    "data.isnull().sum()"
   ]
  },
  {
   "cell_type": "code",
   "execution_count": 9,
   "metadata": {},
   "outputs": [
    {
     "name": "stdout",
     "output_type": "stream",
     "text": [
      "0 spaces in index:  []\n"
     ]
    }
   ],
   "source": [
    "spaces = []\n",
    "for i, x in enumerate(data['headline']):\n",
    "    if type(x) == str:\n",
    "        if x.isspace():\n",
    "            spaces.append(i)\n",
    "        \n",
    "print(len(spaces), 'spaces in index: ', spaces)"
   ]
  },
  {
   "cell_type": "code",
   "execution_count": 10,
   "metadata": {},
   "outputs": [
    {
     "name": "stdout",
     "output_type": "stream",
     "text": [
      "0 blanks:  []\n"
     ]
    }
   ],
   "source": [
    "blanks = []  # start with an empty list\n",
    "\n",
    "for i,cat,hl,au,l,sd,dt in data.itertuples():  # iterate over the DataFrame\n",
    "    if type(sd)==str:            # avoid NaN values\n",
    "        if sd.isspace():         # test 'review' for whitespace\n",
    "            blanks.append(i)     # add matching index numbers to the list\n",
    "        \n",
    "print(len(blanks), 'blanks: ', blanks)"
   ]
  },
  {
   "cell_type": "code",
   "execution_count": 11,
   "metadata": {},
   "outputs": [],
   "source": [
    "X = data['headline']+data['short_description']\n",
    "y = data['category']"
   ]
  },
  {
   "cell_type": "code",
   "execution_count": 12,
   "metadata": {},
   "outputs": [
    {
     "data": {
      "text/plain": [
       "0    Over 4 Million Americans Roll Up Sleeves For O...\n",
       "1    American Airlines Flyer Charged, Banned For Li...\n",
       "2    23 Of The Funniest Tweets About Cats And Dogs ...\n",
       "3    The Funniest Tweets From Parents This Week (Se...\n",
       "4    Woman Who Called Cops On Black Bird-Watcher Lo...\n",
       "dtype: object"
      ]
     },
     "execution_count": 12,
     "metadata": {},
     "output_type": "execute_result"
    }
   ],
   "source": [
    "X.head()"
   ]
  },
  {
   "cell_type": "code",
   "execution_count": 13,
   "metadata": {},
   "outputs": [
    {
     "name": "stdout",
     "output_type": "stream",
     "text": [
      "Training Data Shape: (146668,)\n",
      "Testing Data Shape: (62859,)\n"
     ]
    }
   ],
   "source": [
    "X_train, X_test, y_train, y_test = train_test_split(X, y, test_size=0.3, random_state=77)\n",
    "\n",
    "#Let's check the shape of the splitted data\n",
    "print(f\"Training Data Shape: {X_train.shape}\")\n",
    "print(f\"Testing Data Shape: {X_test.shape}\")"
   ]
  },
  {
   "cell_type": "code",
   "execution_count": 14,
   "metadata": {},
   "outputs": [
    {
     "data": {
      "text/plain": [
       "(146668, 149481)"
      ]
     },
     "execution_count": 14,
     "metadata": {},
     "output_type": "execute_result"
    }
   ],
   "source": [
    "cv = CountVectorizer()\n",
    "\n",
    "X_train_cv = cv.fit_transform(X_train)\n",
    "X_train_cv.shape"
   ]
  },
  {
   "cell_type": "code",
   "execution_count": 15,
   "metadata": {},
   "outputs": [
    {
     "name": "stderr",
     "output_type": "stream",
     "text": [
      "c:\\users\\pulkit\\appdata\\local\\programs\\python\\python38\\lib\\site-packages\\sklearn\\svm\\_base.py:976: ConvergenceWarning: Liblinear failed to converge, increase the number of iterations.\n",
      "  warnings.warn(\"Liblinear failed to converge, increase \"\n"
     ]
    },
    {
     "data": {
      "text/plain": [
       "LinearSVC()"
      ]
     },
     "execution_count": 15,
     "metadata": {},
     "output_type": "execute_result"
    }
   ],
   "source": [
    "from sklearn.svm import LinearSVC\n",
    "clf = LinearSVC()\n",
    "clf.fit(X_train_cv,y_train)"
   ]
  },
  {
   "cell_type": "code",
   "execution_count": 16,
   "metadata": {},
   "outputs": [
    {
     "name": "stdout",
     "output_type": "stream",
     "text": [
      "2314      More Than 8 Million Kids Could Get Subsidized ...\n",
      "145651    K9 Nose Work: Channeling Your Dog's Natural In...\n",
      "dtype: object\n"
     ]
    }
   ],
   "source": [
    "X_test1 = X_test[0:2]\n",
    "print(X_test1)"
   ]
  },
  {
   "cell_type": "code",
   "execution_count": 17,
   "metadata": {},
   "outputs": [
    {
     "data": {
      "text/plain": [
       "array(['PARENTING', 'WELLNESS'], dtype=object)"
      ]
     },
     "execution_count": 17,
     "metadata": {},
     "output_type": "execute_result"
    }
   ],
   "source": [
    "X_test1_cv = cv.transform(X_test1)\n",
    "clf.predict(X_test1_cv)"
   ]
  },
  {
   "cell_type": "code",
   "execution_count": 18,
   "metadata": {},
   "outputs": [],
   "source": [
    "X_test_cv = cv.transform(X_test)"
   ]
  },
  {
   "cell_type": "code",
   "execution_count": 19,
   "metadata": {},
   "outputs": [],
   "source": [
    "predictions = clf.predict(X_test_cv)"
   ]
  },
  {
   "cell_type": "code",
   "execution_count": 20,
   "metadata": {},
   "outputs": [
    {
     "name": "stdout",
     "output_type": "stream",
     "text": [
      "[[105  23   9 ...   4   2   4]\n",
      " [ 32  64  14 ...  21   0   4]\n",
      " [ 11   7 522 ...  19  10   4]\n",
      " ...\n",
      " [  6   6  30 ... 299   7   9]\n",
      " [  2   3  10 ...  10 276  76]\n",
      " [  8   0   5 ...   4  32 267]]\n",
      "                precision    recall  f1-score   support\n",
      "\n",
      "          ARTS       0.26      0.24      0.25       439\n",
      "ARTS & CULTURE       0.24      0.17      0.20       382\n",
      "  BLACK VOICES       0.41      0.39      0.40      1346\n",
      "      BUSINESS       0.38      0.38      0.38      1751\n",
      "       COLLEGE       0.40      0.33      0.36       360\n",
      "        COMEDY       0.43      0.40      0.41      1639\n",
      "         CRIME       0.47      0.50      0.48      1029\n",
      "CULTURE & ARTS       0.36      0.25      0.29       316\n",
      "       DIVORCE       0.70      0.65      0.67      1019\n",
      "     EDUCATION       0.33      0.29      0.31       294\n",
      " ENTERTAINMENT       0.60      0.66      0.62      5201\n",
      "   ENVIRONMENT       0.35      0.24      0.28       437\n",
      "         FIFTY       0.21      0.21      0.21       399\n",
      "  FOOD & DRINK       0.60      0.61      0.61      1902\n",
      "     GOOD NEWS       0.27      0.25      0.26       425\n",
      "         GREEN       0.30      0.28      0.29       786\n",
      "HEALTHY LIVING       0.29      0.30      0.30      2075\n",
      " HOME & LIVING       0.66      0.65      0.66      1296\n",
      "        IMPACT       0.25      0.25      0.25      1037\n",
      " LATINO VOICES       0.46      0.33      0.38       360\n",
      "         MEDIA       0.42      0.40      0.41       894\n",
      "         MONEY       0.40      0.30      0.35       525\n",
      "     PARENTING       0.50      0.48      0.49      2697\n",
      "       PARENTS       0.25      0.26      0.26      1164\n",
      "      POLITICS       0.70      0.78      0.74     10675\n",
      "  QUEER VOICES       0.65      0.64      0.64      1822\n",
      "      RELIGION       0.46      0.46      0.46       766\n",
      "       SCIENCE       0.46      0.42      0.44       674\n",
      "        SPORTS       0.63      0.63      0.63      1483\n",
      "         STYLE       0.36      0.34      0.35       689\n",
      "STYLE & BEAUTY       0.77      0.77      0.77      2996\n",
      "         TASTE       0.30      0.24      0.27       627\n",
      "          TECH       0.44      0.39      0.41       629\n",
      " THE WORLDPOST       0.43      0.37      0.39      1150\n",
      "        TRAVEL       0.66      0.67      0.67      2973\n",
      "     U.S. NEWS       0.24      0.13      0.17       403\n",
      "      WEDDINGS       0.73      0.69      0.71      1109\n",
      "    WEIRD NEWS       0.33      0.26      0.29       833\n",
      "      WELLNESS       0.59      0.62      0.61      5416\n",
      "         WOMEN       0.28      0.29      0.28      1049\n",
      "    WORLD NEWS       0.37      0.27      0.31      1019\n",
      "     WORLDPOST       0.31      0.35      0.33       773\n",
      "\n",
      "      accuracy                           0.54     62859\n",
      "     macro avg       0.43      0.41      0.42     62859\n",
      "  weighted avg       0.53      0.54      0.54     62859\n",
      "\n",
      "0.5434225806964794\n"
     ]
    }
   ],
   "source": [
    "print(metrics.confusion_matrix(y_test,predictions))\n",
    "# Print a classification report\n",
    "print(metrics.classification_report(y_test,predictions))\n",
    "# Print the overall accuracy\n",
    "print(metrics.accuracy_score(y_test,predictions))"
   ]
  },
  {
   "cell_type": "code",
   "execution_count": null,
   "metadata": {},
   "outputs": [],
   "source": []
  },
  {
   "cell_type": "code",
   "execution_count": 21,
   "metadata": {},
   "outputs": [
    {
     "data": {
      "text/plain": [
       "Pipeline(steps=[('cvec', CountVectorizer()), ('clf', LinearSVC())])"
      ]
     },
     "execution_count": 21,
     "metadata": {},
     "output_type": "execute_result"
    }
   ],
   "source": [
    "clf_cvec_lsvc = Pipeline([('cvec', CountVectorizer()),\n",
    "                     ('clf', LinearSVC())])\n",
    "\n",
    "# Feed the training data through the pipeline\n",
    "clf_cvec_lsvc.fit(X_train, y_train)"
   ]
  },
  {
   "cell_type": "code",
   "execution_count": 22,
   "metadata": {},
   "outputs": [
    {
     "name": "stdout",
     "output_type": "stream",
     "text": [
      "[[105  23   9 ...   4   2   4]\n",
      " [ 32  64  14 ...  21   0   4]\n",
      " [ 11   7 522 ...  19  10   4]\n",
      " ...\n",
      " [  6   6  30 ... 299   7   9]\n",
      " [  2   3  10 ...  10 276  76]\n",
      " [  8   0   5 ...   4  32 267]]\n",
      "                precision    recall  f1-score   support\n",
      "\n",
      "          ARTS       0.26      0.24      0.25       439\n",
      "ARTS & CULTURE       0.24      0.17      0.20       382\n",
      "  BLACK VOICES       0.41      0.39      0.40      1346\n",
      "      BUSINESS       0.38      0.38      0.38      1751\n",
      "       COLLEGE       0.40      0.33      0.36       360\n",
      "        COMEDY       0.43      0.40      0.41      1639\n",
      "         CRIME       0.47      0.50      0.48      1029\n",
      "CULTURE & ARTS       0.36      0.25      0.29       316\n",
      "       DIVORCE       0.70      0.65      0.67      1019\n",
      "     EDUCATION       0.33      0.29      0.31       294\n",
      " ENTERTAINMENT       0.59      0.66      0.62      5201\n",
      "   ENVIRONMENT       0.35      0.24      0.28       437\n",
      "         FIFTY       0.21      0.21      0.21       399\n",
      "  FOOD & DRINK       0.60      0.61      0.61      1902\n",
      "     GOOD NEWS       0.27      0.25      0.26       425\n",
      "         GREEN       0.30      0.28      0.29       786\n",
      "HEALTHY LIVING       0.29      0.30      0.30      2075\n",
      " HOME & LIVING       0.66      0.65      0.66      1296\n",
      "        IMPACT       0.25      0.25      0.25      1037\n",
      " LATINO VOICES       0.46      0.33      0.38       360\n",
      "         MEDIA       0.42      0.40      0.41       894\n",
      "         MONEY       0.40      0.30      0.35       525\n",
      "     PARENTING       0.50      0.48      0.49      2697\n",
      "       PARENTS       0.25      0.26      0.26      1164\n",
      "      POLITICS       0.70      0.78      0.74     10675\n",
      "  QUEER VOICES       0.65      0.64      0.64      1822\n",
      "      RELIGION       0.46      0.46      0.46       766\n",
      "       SCIENCE       0.46      0.42      0.44       674\n",
      "        SPORTS       0.63      0.63      0.63      1483\n",
      "         STYLE       0.36      0.34      0.35       689\n",
      "STYLE & BEAUTY       0.77      0.77      0.77      2996\n",
      "         TASTE       0.30      0.24      0.27       627\n",
      "          TECH       0.44      0.39      0.41       629\n",
      " THE WORLDPOST       0.43      0.37      0.39      1150\n",
      "        TRAVEL       0.66      0.67      0.67      2973\n",
      "     U.S. NEWS       0.24      0.13      0.17       403\n",
      "      WEDDINGS       0.73      0.69      0.71      1109\n",
      "    WEIRD NEWS       0.33      0.26      0.29       833\n",
      "      WELLNESS       0.59      0.62      0.61      5416\n",
      "         WOMEN       0.28      0.29      0.28      1049\n",
      "    WORLD NEWS       0.37      0.27      0.31      1019\n",
      "     WORLDPOST       0.31      0.35      0.33       773\n",
      "\n",
      "      accuracy                           0.54     62859\n",
      "     macro avg       0.43      0.41      0.42     62859\n",
      "  weighted avg       0.53      0.54      0.54     62859\n",
      "\n",
      "0.5434066720755978\n"
     ]
    }
   ],
   "source": [
    "predictions = clf_cvec_lsvc.predict(X_test)\n",
    "# Report the confusion matrix\n",
    "print(metrics.confusion_matrix(y_test,predictions))\n",
    "# Print a classification report\n",
    "print(metrics.classification_report(y_test,predictions))\n",
    "# Print the overall accuracy\n",
    "print(metrics.accuracy_score(y_test,predictions))"
   ]
  },
  {
   "cell_type": "markdown",
   "metadata": {},
   "source": [
    "# LinearSVC"
   ]
  },
  {
   "cell_type": "code",
   "execution_count": 23,
   "metadata": {},
   "outputs": [
    {
     "data": {
      "text/plain": [
       "Pipeline(steps=[('tfidf', TfidfVectorizer()), ('clf', LinearSVC())])"
      ]
     },
     "execution_count": 23,
     "metadata": {},
     "output_type": "execute_result"
    }
   ],
   "source": [
    "clf_tfidf_lsvc = Pipeline([('tfidf', TfidfVectorizer()),\n",
    "                     ('clf', LinearSVC())])\n",
    "\n",
    "# Feed the training data through the pipeline\n",
    "clf_tfidf_lsvc.fit(X_train, y_train)"
   ]
  },
  {
   "cell_type": "code",
   "execution_count": 24,
   "metadata": {},
   "outputs": [
    {
     "name": "stdout",
     "output_type": "stream",
     "text": [
      "0.6001368141395822\n"
     ]
    }
   ],
   "source": [
    "predictions = clf_tfidf_lsvc.predict(X_test)\n",
    "# Print the overall accuracy\n",
    "print(metrics.accuracy_score(y_test,predictions))"
   ]
  },
  {
   "cell_type": "markdown",
   "metadata": {},
   "source": [
    "#  MultinomialNB"
   ]
  },
  {
   "cell_type": "code",
   "execution_count": 25,
   "metadata": {},
   "outputs": [
    {
     "data": {
      "text/plain": [
       "Pipeline(steps=[('tfidf', TfidfVectorizer()), ('clf', MultinomialNB())])"
      ]
     },
     "execution_count": 25,
     "metadata": {},
     "output_type": "execute_result"
    }
   ],
   "source": [
    "clf_tfidf_mnb = Pipeline([('tfidf', TfidfVectorizer()),\n",
    "                     ('clf', MultinomialNB())])\n",
    "\n",
    "# Feed the training data through the pipeline\n",
    "clf_tfidf_mnb.fit(X_train, y_train)  "
   ]
  },
  {
   "cell_type": "code",
   "execution_count": 26,
   "metadata": {},
   "outputs": [
    {
     "name": "stdout",
     "output_type": "stream",
     "text": [
      "0.3421944351644156\n"
     ]
    }
   ],
   "source": [
    "predictions = clf_tfidf_mnb.predict(X_test)\n",
    "# Print the overall accuracy\n",
    "print(metrics.accuracy_score(y_test,predictions))"
   ]
  },
  {
   "cell_type": "markdown",
   "metadata": {},
   "source": [
    "# Logistic Regression"
   ]
  },
  {
   "cell_type": "code",
   "execution_count": 27,
   "metadata": {},
   "outputs": [
    {
     "name": "stderr",
     "output_type": "stream",
     "text": [
      "c:\\users\\pulkit\\appdata\\local\\programs\\python\\python38\\lib\\site-packages\\sklearn\\linear_model\\_logistic.py:762: ConvergenceWarning: lbfgs failed to converge (status=1):\n",
      "STOP: TOTAL NO. of ITERATIONS REACHED LIMIT.\n",
      "\n",
      "Increase the number of iterations (max_iter) or scale the data as shown in:\n",
      "    https://scikit-learn.org/stable/modules/preprocessing.html\n",
      "Please also refer to the documentation for alternative solver options:\n",
      "    https://scikit-learn.org/stable/modules/linear_model.html#logistic-regression\n",
      "  n_iter_i = _check_optimize_result(\n"
     ]
    },
    {
     "data": {
      "text/plain": [
       "Pipeline(steps=[('tfidf', TfidfVectorizer()), ('clf', LogisticRegression())])"
      ]
     },
     "execution_count": 27,
     "metadata": {},
     "output_type": "execute_result"
    }
   ],
   "source": [
    "clf_tfidf_lr = Pipeline([('tfidf', TfidfVectorizer()),\n",
    "                     ('clf', LogisticRegression())])\n",
    "\n",
    "# Feed the training data through the pipeline\n",
    "clf_tfidf_lr.fit(X_train, y_train)"
   ]
  },
  {
   "cell_type": "code",
   "execution_count": 28,
   "metadata": {},
   "outputs": [
    {
     "name": "stdout",
     "output_type": "stream",
     "text": [
      "0.5873781001924944\n"
     ]
    }
   ],
   "source": [
    "predictions = clf_tfidf_lr.predict(X_test)\n",
    "# Print the overall accuracy\n",
    "print(metrics.accuracy_score(y_test,predictions))"
   ]
  },
  {
   "cell_type": "markdown",
   "metadata": {},
   "source": [
    "# KNeighborsClassifier"
   ]
  },
  {
   "cell_type": "code",
   "execution_count": 29,
   "metadata": {},
   "outputs": [
    {
     "data": {
      "text/plain": [
       "Pipeline(steps=[('tfidf', TfidfVectorizer()), ('clf', KNeighborsClassifier())])"
      ]
     },
     "execution_count": 29,
     "metadata": {},
     "output_type": "execute_result"
    }
   ],
   "source": [
    "clf_tfidf_knc = Pipeline([('tfidf', TfidfVectorizer()),\n",
    "                     ('clf', KNeighborsClassifier())])\n",
    "\n",
    "# Feed the training data through the pipeline\n",
    "clf_tfidf_knc.fit(X_train, y_train)"
   ]
  },
  {
   "cell_type": "code",
   "execution_count": 30,
   "metadata": {},
   "outputs": [
    {
     "name": "stdout",
     "output_type": "stream",
     "text": [
      "0.10019249431266804\n"
     ]
    }
   ],
   "source": [
    "predictions = clf_tfidf_knc.predict(X_test)\n",
    "# Print the overall accuracy\n",
    "print(metrics.accuracy_score(y_test,predictions))"
   ]
  },
  {
   "cell_type": "markdown",
   "metadata": {},
   "source": [
    "# Random Forest Classifier"
   ]
  },
  {
   "cell_type": "code",
   "execution_count": 31,
   "metadata": {},
   "outputs": [
    {
     "data": {
      "text/plain": [
       "Pipeline(steps=[('tfidf', TfidfVectorizer()),\n",
       "                ('clf', RandomForestClassifier())])"
      ]
     },
     "execution_count": 31,
     "metadata": {},
     "output_type": "execute_result"
    }
   ],
   "source": [
    "clf_tfidf_rfc = Pipeline([('tfidf', TfidfVectorizer()),\n",
    "                     ('clf', RandomForestClassifier())])\n",
    "\n",
    "# Feed the training data through the pipeline\n",
    "clf_tfidf_rfc.fit(X_train, y_train)"
   ]
  },
  {
   "cell_type": "code",
   "execution_count": 32,
   "metadata": {},
   "outputs": [
    {
     "name": "stdout",
     "output_type": "stream",
     "text": [
      "0.4907173197155539\n"
     ]
    }
   ],
   "source": [
    "predictions = clf_tfidf_rfc.predict(X_test)\n",
    "# Print the overall accuracy\n",
    "print(metrics.accuracy_score(y_test,predictions))"
   ]
  },
  {
   "cell_type": "markdown",
   "metadata": {},
   "source": [
    "Performance of various Classifiers\n",
    "LinearSVC = 0.6001\n",
    "MultinomialNB = 0.3421\n",
    "LogisticRegression = 0.5873\n",
    "K-NeighborsClassifier = 0.1001\n",
    "RandomForestClassifier = 0.4907\n",
    "\n",
    "\n",
    "## LinearSVC has the best accuracy of 60%"
   ]
  },
  {
   "cell_type": "code",
   "execution_count": null,
   "metadata": {},
   "outputs": [],
   "source": []
  }
 ],
 "metadata": {
  "kernelspec": {
   "display_name": "Python 3",
   "language": "python",
   "name": "python3"
  },
  "language_info": {
   "codemirror_mode": {
    "name": "ipython",
    "version": 3
   },
   "file_extension": ".py",
   "mimetype": "text/x-python",
   "name": "python",
   "nbconvert_exporter": "python",
   "pygments_lexer": "ipython3",
   "version": "3.8.10"
  }
 },
 "nbformat": 4,
 "nbformat_minor": 4
}
