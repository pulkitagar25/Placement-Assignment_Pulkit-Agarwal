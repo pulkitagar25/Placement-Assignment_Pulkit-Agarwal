{
 "cells": [
  {
   "cell_type": "markdown",
   "metadata": {},
   "source": [
    "Question 4 -\n",
    "Write a program to download the data from the link given below and then read the data and convert the into\n",
    "the proper structure and return it as a CSV file.\n",
    "Link - https://data.nasa.gov/resource/y77d-th95.json"
   ]
  },
  {
   "cell_type": "code",
   "execution_count": 1,
   "metadata": {},
   "outputs": [
    {
     "name": "stdout",
     "output_type": "stream",
     "text": [
      "Data downloaded and converted. Exported to meteorite_data1.csv.\n"
     ]
    }
   ],
   "source": [
    "import requests\n",
    "import json\n",
    "import csv\n",
    "\n",
    "def download_and_convert_data(url):\n",
    "    # Download the JSON data\n",
    "    response = requests.get(url)\n",
    "    data = response.json()\n",
    "\n",
    "    # Extract the required data attributes from the JSON\n",
    "    extracted_data = []\n",
    "    for meteorite in data:\n",
    "        extracted_data.append({\n",
    "            'name': meteorite.get('name', ''),\n",
    "            'id': meteorite.get('id', ''),\n",
    "            'nametype': meteorite.get('nametype', ''),\n",
    "            'recclass': meteorite.get('recclass', ''),\n",
    "            'mass': meteorite.get('mass (g)', ''),\n",
    "            'year': meteorite.get('year', ''),\n",
    "            'reclat': meteorite.get('reclat', ''),\n",
    "            'reclong': meteorite.get('reclong', ''),\n",
    "            'coordinates': [meteorite.get('reclong', ''), meteorite.get('reclat', '')]\n",
    "        })\n",
    "\n",
    "    # Write the data to a CSV file\n",
    "    output_file = 'meteorite_data1.csv'\n",
    "    with open(output_file, 'w', newline='', encoding='utf-8') as file:\n",
    "        writer = csv.DictWriter(file, fieldnames=extracted_data[0].keys())\n",
    "        writer.writeheader()\n",
    "        writer.writerows(extracted_data)\n",
    "\n",
    "    return output_file\n",
    "\n",
    "\n",
    "# Example usage\n",
    "url = 'https://data.nasa.gov/resource/y77d-th95.json'\n",
    "output_file = download_and_convert_data(url)\n",
    "print(f'Data downloaded and converted. Exported to {output_file}.')"
   ]
  }
 ],
 "metadata": {
  "kernelspec": {
   "display_name": "Python 3",
   "language": "python",
   "name": "python3"
  },
  "language_info": {
   "codemirror_mode": {
    "name": "ipython",
    "version": 3
   },
   "file_extension": ".py",
   "mimetype": "text/x-python",
   "name": "python",
   "nbconvert_exporter": "python",
   "pygments_lexer": "ipython3",
   "version": "3.8.10"
  }
 },
 "nbformat": 4,
 "nbformat_minor": 4
}
