{
 "cells": [
  {
   "cell_type": "code",
   "execution_count": 1,
   "metadata": {},
   "outputs": [],
   "source": [
    "import pandas as pd\n",
    "import matplotlib.pyplot as plt"
   ]
  },
  {
   "cell_type": "code",
   "execution_count": 5,
   "metadata": {},
   "outputs": [],
   "source": [
    "data=pd.read_csv(\"meteorite_data.csv\")"
   ]
  },
  {
   "cell_type": "code",
   "execution_count": 6,
   "metadata": {},
   "outputs": [
    {
     "data": {
      "text/html": [
       "<div>\n",
       "<style scoped>\n",
       "    .dataframe tbody tr th:only-of-type {\n",
       "        vertical-align: middle;\n",
       "    }\n",
       "\n",
       "    .dataframe tbody tr th {\n",
       "        vertical-align: top;\n",
       "    }\n",
       "\n",
       "    .dataframe thead th {\n",
       "        text-align: right;\n",
       "    }\n",
       "</style>\n",
       "<table border=\"1\" class=\"dataframe\">\n",
       "  <thead>\n",
       "    <tr style=\"text-align: right;\">\n",
       "      <th></th>\n",
       "      <th>name</th>\n",
       "      <th>id</th>\n",
       "      <th>nametype</th>\n",
       "      <th>recclass</th>\n",
       "      <th>mass</th>\n",
       "      <th>year</th>\n",
       "      <th>reclat</th>\n",
       "      <th>reclong</th>\n",
       "      <th>coordinates</th>\n",
       "    </tr>\n",
       "  </thead>\n",
       "  <tbody>\n",
       "    <tr>\n",
       "      <th>0</th>\n",
       "      <td>Aachen</td>\n",
       "      <td>1</td>\n",
       "      <td>Valid</td>\n",
       "      <td>L5</td>\n",
       "      <td>NaN</td>\n",
       "      <td>1880-01-01T00:00:00.000</td>\n",
       "      <td>50.77500</td>\n",
       "      <td>6.08333</td>\n",
       "      <td>['6.083330', '50.775000']</td>\n",
       "    </tr>\n",
       "    <tr>\n",
       "      <th>1</th>\n",
       "      <td>Aarhus</td>\n",
       "      <td>2</td>\n",
       "      <td>Valid</td>\n",
       "      <td>H6</td>\n",
       "      <td>NaN</td>\n",
       "      <td>1951-01-01T00:00:00.000</td>\n",
       "      <td>56.18333</td>\n",
       "      <td>10.23333</td>\n",
       "      <td>['10.233330', '56.183330']</td>\n",
       "    </tr>\n",
       "    <tr>\n",
       "      <th>2</th>\n",
       "      <td>Abee</td>\n",
       "      <td>6</td>\n",
       "      <td>Valid</td>\n",
       "      <td>EH4</td>\n",
       "      <td>NaN</td>\n",
       "      <td>1952-01-01T00:00:00.000</td>\n",
       "      <td>54.21667</td>\n",
       "      <td>-113.00000</td>\n",
       "      <td>['-113.000000', '54.216670']</td>\n",
       "    </tr>\n",
       "    <tr>\n",
       "      <th>3</th>\n",
       "      <td>Acapulco</td>\n",
       "      <td>10</td>\n",
       "      <td>Valid</td>\n",
       "      <td>Acapulcoite</td>\n",
       "      <td>NaN</td>\n",
       "      <td>1976-01-01T00:00:00.000</td>\n",
       "      <td>16.88333</td>\n",
       "      <td>-99.90000</td>\n",
       "      <td>['-99.900000', '16.883330']</td>\n",
       "    </tr>\n",
       "    <tr>\n",
       "      <th>4</th>\n",
       "      <td>Achiras</td>\n",
       "      <td>370</td>\n",
       "      <td>Valid</td>\n",
       "      <td>L6</td>\n",
       "      <td>NaN</td>\n",
       "      <td>1902-01-01T00:00:00.000</td>\n",
       "      <td>-33.16667</td>\n",
       "      <td>-64.95000</td>\n",
       "      <td>['-64.950000', '-33.166670']</td>\n",
       "    </tr>\n",
       "    <tr>\n",
       "      <th>...</th>\n",
       "      <td>...</td>\n",
       "      <td>...</td>\n",
       "      <td>...</td>\n",
       "      <td>...</td>\n",
       "      <td>...</td>\n",
       "      <td>...</td>\n",
       "      <td>...</td>\n",
       "      <td>...</td>\n",
       "      <td>...</td>\n",
       "    </tr>\n",
       "    <tr>\n",
       "      <th>995</th>\n",
       "      <td>Tirupati</td>\n",
       "      <td>24009</td>\n",
       "      <td>Valid</td>\n",
       "      <td>H6</td>\n",
       "      <td>NaN</td>\n",
       "      <td>1934-01-01T00:00:00.000</td>\n",
       "      <td>13.63333</td>\n",
       "      <td>79.41667</td>\n",
       "      <td>['79.416670', '13.633330']</td>\n",
       "    </tr>\n",
       "    <tr>\n",
       "      <th>996</th>\n",
       "      <td>Tissint</td>\n",
       "      <td>54823</td>\n",
       "      <td>Valid</td>\n",
       "      <td>Martian (shergottite)</td>\n",
       "      <td>NaN</td>\n",
       "      <td>2011-01-01T00:00:00.000</td>\n",
       "      <td>29.48195</td>\n",
       "      <td>-7.61123</td>\n",
       "      <td>['-7.611230', '29.481950']</td>\n",
       "    </tr>\n",
       "    <tr>\n",
       "      <th>997</th>\n",
       "      <td>Tjabe</td>\n",
       "      <td>24011</td>\n",
       "      <td>Valid</td>\n",
       "      <td>H6</td>\n",
       "      <td>NaN</td>\n",
       "      <td>1869-01-01T00:00:00.000</td>\n",
       "      <td>-7.08333</td>\n",
       "      <td>111.53333</td>\n",
       "      <td>['111.533330', '-7.083330']</td>\n",
       "    </tr>\n",
       "    <tr>\n",
       "      <th>998</th>\n",
       "      <td>Tjerebon</td>\n",
       "      <td>24012</td>\n",
       "      <td>Valid</td>\n",
       "      <td>L5</td>\n",
       "      <td>NaN</td>\n",
       "      <td>1922-01-01T00:00:00.000</td>\n",
       "      <td>-6.66667</td>\n",
       "      <td>106.58333</td>\n",
       "      <td>['106.583330', '-6.666670']</td>\n",
       "    </tr>\n",
       "    <tr>\n",
       "      <th>999</th>\n",
       "      <td>Tomakovka</td>\n",
       "      <td>24019</td>\n",
       "      <td>Valid</td>\n",
       "      <td>LL6</td>\n",
       "      <td>NaN</td>\n",
       "      <td>1905-01-01T00:00:00.000</td>\n",
       "      <td>47.85000</td>\n",
       "      <td>34.76667</td>\n",
       "      <td>['34.766670', '47.850000']</td>\n",
       "    </tr>\n",
       "  </tbody>\n",
       "</table>\n",
       "<p>1000 rows × 9 columns</p>\n",
       "</div>"
      ],
      "text/plain": [
       "          name     id nametype               recclass  mass  \\\n",
       "0       Aachen      1    Valid                     L5   NaN   \n",
       "1       Aarhus      2    Valid                     H6   NaN   \n",
       "2         Abee      6    Valid                    EH4   NaN   \n",
       "3     Acapulco     10    Valid            Acapulcoite   NaN   \n",
       "4      Achiras    370    Valid                     L6   NaN   \n",
       "..         ...    ...      ...                    ...   ...   \n",
       "995   Tirupati  24009    Valid                     H6   NaN   \n",
       "996    Tissint  54823    Valid  Martian (shergottite)   NaN   \n",
       "997      Tjabe  24011    Valid                     H6   NaN   \n",
       "998   Tjerebon  24012    Valid                     L5   NaN   \n",
       "999  Tomakovka  24019    Valid                    LL6   NaN   \n",
       "\n",
       "                        year    reclat    reclong  \\\n",
       "0    1880-01-01T00:00:00.000  50.77500    6.08333   \n",
       "1    1951-01-01T00:00:00.000  56.18333   10.23333   \n",
       "2    1952-01-01T00:00:00.000  54.21667 -113.00000   \n",
       "3    1976-01-01T00:00:00.000  16.88333  -99.90000   \n",
       "4    1902-01-01T00:00:00.000 -33.16667  -64.95000   \n",
       "..                       ...       ...        ...   \n",
       "995  1934-01-01T00:00:00.000  13.63333   79.41667   \n",
       "996  2011-01-01T00:00:00.000  29.48195   -7.61123   \n",
       "997  1869-01-01T00:00:00.000  -7.08333  111.53333   \n",
       "998  1922-01-01T00:00:00.000  -6.66667  106.58333   \n",
       "999  1905-01-01T00:00:00.000  47.85000   34.76667   \n",
       "\n",
       "                      coordinates  \n",
       "0       ['6.083330', '50.775000']  \n",
       "1      ['10.233330', '56.183330']  \n",
       "2    ['-113.000000', '54.216670']  \n",
       "3     ['-99.900000', '16.883330']  \n",
       "4    ['-64.950000', '-33.166670']  \n",
       "..                            ...  \n",
       "995    ['79.416670', '13.633330']  \n",
       "996    ['-7.611230', '29.481950']  \n",
       "997   ['111.533330', '-7.083330']  \n",
       "998   ['106.583330', '-6.666670']  \n",
       "999    ['34.766670', '47.850000']  \n",
       "\n",
       "[1000 rows x 9 columns]"
      ]
     },
     "execution_count": 6,
     "metadata": {},
     "output_type": "execute_result"
    }
   ],
   "source": [
    "data"
   ]
  },
  {
   "cell_type": "code",
   "execution_count": 8,
   "metadata": {},
   "outputs": [],
   "source": [
    "data[\"year\"] = pd.to_datetime(data[\"year\"], errors=\"coerce\")"
   ]
  },
  {
   "cell_type": "code",
   "execution_count": 9,
   "metadata": {},
   "outputs": [],
   "source": [
    "meteorites_before_2000 = data[data[\"year\"].dt.year < 2000]"
   ]
  },
  {
   "cell_type": "code",
   "execution_count": 10,
   "metadata": {},
   "outputs": [],
   "source": [
    "# Get all the Earth meteorites' coordinates that fell before the year 1970\n",
    "meteorites_coords_before_1970 = data[data[\"year\"].dt.year < 1970][[\"reclat\", \"reclong\"]]"
   ]
  },
  {
   "cell_type": "code",
   "execution_count": 13,
   "metadata": {},
   "outputs": [],
   "source": [
    "# Get all Earth meteorites with mass greater than 10000 kg\n",
    "meteorites_mass_above_10000kg = data[data[\"mass\"] > 10000]"
   ]
  },
  {
   "cell_type": "code",
   "execution_count": 14,
   "metadata": {},
   "outputs": [
    {
     "data": {
      "image/png": "[encoded data removed]",
      "text/plain": [
       "<Figure size 432x288 with 1 Axes>"
      ]
     },
     "metadata": {
      "needs_background": "light"
     },
     "output_type": "display_data"
    }
   ],
   "source": [
    "# Plotting the number of Earth meteorites before the year 2000\n",
    "meteorites_count_by_year = meteorites_before_2000[\"year\"].dt.year.value_counts().sort_index()\n",
    "meteorites_count_by_year.plot(kind=\"bar\", xlabel=\"Year\", ylabel=\"Number of Meteorites\", title=\"Number of Earth Meteorites Before the Year 2000\")\n",
    "plt.show()"
   ]
  },
  {
   "cell_type": "code",
   "execution_count": 15,
   "metadata": {},
   "outputs": [
    {
     "data": {
      "image/png": "[encoded data removed]",
      "text/plain": [
       "<Figure size 432x288 with 1 Axes>"
      ]
     },
     "metadata": {
      "needs_background": "light"
     },
     "output_type": "display_data"
    }
   ],
   "source": [
    "# Plotting the coordinates of Earth meteorites before the year 1970\n",
    "meteorites_coords_before_1970.plot.scatter(x=\"reclong\", y=\"reclat\", xlabel=\"Longitude\", ylabel=\"Latitude\", title=\"Coordinates of Earth Meteorites Before the Year 1970\")\n",
    "plt.show()"
   ]
  },
  {
   "cell_type": "code",
   "execution_count": 17,
   "metadata": {},
   "outputs": [
    {
     "data": {
      "image/png": "[encoded data removed]",
      "text/plain": [
       "<Figure size 432x288 with 1 Axes>"
      ]
     },
     "metadata": {
      "needs_background": "light"
     },
     "output_type": "display_data"
    }
   ],
   "source": [
    "# Plotting the mass distribution of Earth meteorites with mass above 10000 kg\n",
    "meteorites_mass_above_10000kg[\"mass\"].plot.hist(bins=10, xlabel=\"Mass (kg)\", ylabel=\"Frequency\", title=\"Mass Distribution of Earth Meteorites (Mass > 10000 kg)\")\n",
    "plt.show()"
   ]
  },
  {
   "cell_type": "code",
   "execution_count": null,
   "metadata": {},
   "outputs": [],
   "source": []
  }
 ],
 "metadata": {
  "kernelspec": {
   "display_name": "Python 3",
   "language": "python",
   "name": "python3"
  },
  "language_info": {
   "codemirror_mode": {
    "name": "ipython",
    "version": 3
   },
   "file_extension": ".py",
   "mimetype": "text/x-python",
   "name": "python",
   "nbconvert_exporter": "python",
   "pygments_lexer": "ipython3",
   "version": "3.8.10"
  }
 },
 "nbformat": 4,
 "nbformat_minor": 4
}
