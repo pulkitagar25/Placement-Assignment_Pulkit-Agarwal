{
 "cells": [
  {
   "cell_type": "markdown",
   "metadata": {},
   "source": [
    "Question 10 -\n",
    "Write a program to count the number of verbs, nouns, pronouns, and adjectives in a given particular phrase or\n",
    "paragraph, and return their respective count as a dictionary.\n",
    "Note -\n",
    "1. Write code comments wherever required for code\n",
    "2. You have to write at least 2 additional test cases in which your program will run successfully and provide\n",
    "an explanation for the same."
   ]
  },
  {
   "cell_type": "code",
   "execution_count": 21,
   "metadata": {},
   "outputs": [],
   "source": [
    "import nltk\n",
    "from nltk import pos_tag\n",
    "from collections import defaultdict\n",
    "\n",
    "def count_pos_tags(text):\n",
    "    # Tokenize the text into individual words\n",
    "    words = nltk.word_tokenize(text)\n",
    "\n",
    "    # Perform part-of-speech tagging\n",
    "    tagged_words = pos_tag(words)\n",
    "\n",
    "    # Initialize counts dictionary\n",
    "    counts = defaultdict(int)\n",
    "\n",
    "    # Count the number of verbs, nouns, pronouns, and adjectives\n",
    "    for word, pos in tagged_words:\n",
    "        if pos.startswith('VB'):\n",
    "            counts['verbs'] += 1\n",
    "        elif pos.startswith('NN'):\n",
    "            counts['nouns'] += 1\n",
    "        elif pos.startswith('PRP'):\n",
    "            counts['pronouns'] += 1\n",
    "        elif pos.startswith('JJ'):\n",
    "            counts['adjectives'] += 1\n",
    "\n",
    "    return counts"
   ]
  },
  {
   "cell_type": "code",
   "execution_count": 22,
   "metadata": {},
   "outputs": [
    {
     "name": "stdout",
     "output_type": "stream",
     "text": [
      "defaultdict(<class 'int'>, {'nouns': 2, 'verbs': 1})\n"
     ]
    }
   ],
   "source": [
    "phrase = \"The cat sat on the mat.\"\n",
    "result = count_pos_tags(phrase)\n",
    "print(result)"
   ]
  },
  {
   "cell_type": "code",
   "execution_count": 25,
   "metadata": {},
   "outputs": [
    {
     "name": "stdout",
     "output_type": "stream",
     "text": [
      "defaultdict(<class 'int'>, {'adjectives': 2, 'nouns': 5, 'verbs': 3})\n"
     ]
    }
   ],
   "source": [
    "# Additional test case 1: Long paragraph\n",
    "paragraph = \"The quick brown fox jumps over the lazy dog. The dog barks loudly. The fox runs away quickly.\"\n",
    "result = count_pos_tags(paragraph)\n",
    "print(result)"
   ]
  },
  {
   "cell_type": "markdown",
   "metadata": {},
   "source": [
    "Explanation:\n",
    "This test case is a longer paragraph consisting of multiple sentences. The paragraph includes verbs like \"jumps,\" \"barks,\" and \"runs,\" nouns like \"fox\" and \"dog,\" pronouns like \"the,\" and adjectives like \"quick,\" \"brown,\" \"lazy,\" and \"quickly.\" The program will count the occurrences of each part of speech and return the counts as a dictionary. Running the code will provide the count of verbs, nouns, pronouns, and adjectives in the given paragraph."
   ]
  },
  {
   "cell_type": "code",
   "execution_count": 24,
   "metadata": {},
   "outputs": [
    {
     "name": "stdout",
     "output_type": "stream",
     "text": [
      "defaultdict(<class 'int'>, {'pronouns': 1, 'verbs': 2, 'nouns': 2})\n"
     ]
    }
   ],
   "source": [
    "# Additional test case 2: Complex sentence\n",
    "sentence = \"She loves playing the piano and singing.\"\n",
    "result = count_pos_tags(sentence)\n",
    "print(result)"
   ]
  },
  {
   "cell_type": "markdown",
   "metadata": {},
   "source": [
    "Explanation:\n",
    "This test case focuses on a complex sentence that involves multiple activities and descriptive words. The sentence includes the verb \"loves,\" the nouns \"piano\" and \"singing,\" the pronoun \"she,\" and the adjective \"playing.\" The program will count the occurrences of each part of speech and return the counts as a dictionary. By running the code, you will obtain the count of verbs, nouns, pronouns, and adjectives in the given sentence."
   ]
  }
 ],
 "metadata": {
  "kernelspec": {
   "display_name": "Python 3",
   "language": "python",
   "name": "python3"
  },
  "language_info": {
   "codemirror_mode": {
    "name": "ipython",
    "version": 3
   },
   "file_extension": ".py",
   "mimetype": "text/x-python",
   "name": "python",
   "nbconvert_exporter": "python",
   "pygments_lexer": "ipython3",
   "version": "3.8.10"
  }
 },
 "nbformat": 4,
 "nbformat_minor": 4
}
