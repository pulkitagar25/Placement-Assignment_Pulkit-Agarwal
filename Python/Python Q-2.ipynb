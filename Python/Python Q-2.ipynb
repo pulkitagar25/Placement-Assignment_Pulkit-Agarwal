{
 "cells": [
  {
   "cell_type": "markdown",
   "metadata": {},
   "source": [
    "Question 2: -\n",
    "Consider a string to be valid if all characters of the string appear the same number of times. It is also valid if\n",
    "he can remove just one character at the index in the string, and the remaining characters will occur the same\n",
    "number of times. Given a string, determine if it is valid. If so, return YES , otherwise return NO .\n",
    "Note - You have to write at least 2 additional test cases in which your program will run successfully and provide\n",
    "an explanation for the same.\n",
    "Example input 1 - s = “abc”. This is a valid string because frequencies are { “a”: 1, “b”: 1, “c”: 1 }\n",
    "Example output 1- YES\n",
    "Example input 2 - s “abcc”. This string is not valid as we can remove only 1 occurrence of “c”. That leaves\n",
    "character frequencies of { “a”: 1, “b”: 1 , “c”: 2 }\n",
    "Example output 2 - NO"
   ]
  },
  {
   "cell_type": "code",
   "execution_count": 1,
   "metadata": {},
   "outputs": [
    {
     "name": "stdout",
     "output_type": "stream",
     "text": [
      "YES\n",
      "NO\n"
     ]
    }
   ],
   "source": [
    "from collections import Counter\n",
    "\n",
    "def is_valid_string(s):\n",
    "\n",
    "    char_frequency = Counter(s)\n",
    "\n",
    "    frequency_count = Counter(char_frequency.values())\n",
    "\n",
    "    if len(frequency_count) == 1:\n",
    "        return \"YES\"\n",
    "\n",
    "    if len(frequency_count) > 2:\n",
    "        return \"NO\"\n",
    "\n",
    "    frequencies = list(frequency_count.keys())\n",
    "    counts = list(frequency_count.values())\n",
    "\n",
    "    if (counts[0] == 1 and frequencies[0] == 1) or (counts[1] == 1 and frequencies[1] == 1):\n",
    "        return \"YES\"\n",
    "\n",
    "    return \"NO\"\n",
    "\n",
    "\n",
    "\n",
    "s = \"abc\"\n",
    "print(is_valid_string(s)) \n",
    "\n",
    "s = \"abcc\"\n",
    "print(is_valid_string(s))"
   ]
  },
  {
   "cell_type": "code",
   "execution_count": 2,
   "metadata": {},
   "outputs": [
    {
     "name": "stdout",
     "output_type": "stream",
     "text": [
      "YES\n"
     ]
    }
   ],
   "source": [
    "#Additional Test Case 1:\n",
    "\n",
    "s = \"aabbcc\"\n",
    "print(is_valid_string(s))"
   ]
  },
  {
   "cell_type": "markdown",
   "metadata": {},
   "source": [
    "Explanation: In this test case, all characters appear the same number of times (2 times each), so the string is valid."
   ]
  },
  {
   "cell_type": "code",
   "execution_count": 3,
   "metadata": {},
   "outputs": [
    {
     "name": "stdout",
     "output_type": "stream",
     "text": [
      "NO\n"
     ]
    }
   ],
   "source": [
    "#Additional Test Case 2:\n",
    "\n",
    "s = \"aabbccc\"\n",
    "print(is_valid_string(s))\n"
   ]
  },
  {
   "cell_type": "markdown",
   "metadata": {},
   "source": [
    "Explanation: In this test case, we can remove one occurrence of \"c\" to make all characters appear the same number of times (2 times each), so the string is valid."
   ]
  }
 ],
 "metadata": {
  "kernelspec": {
   "display_name": "Python 3",
   "language": "python",
   "name": "python3"
  },
  "language_info": {
   "codemirror_mode": {
    "name": "ipython",
    "version": 3
   },
   "file_extension": ".py",
   "mimetype": "text/x-python",
   "name": "python",
   "nbconvert_exporter": "python",
   "pygments_lexer": "ipython3",
   "version": "3.8.10"
  }
 },
 "nbformat": 4,
 "nbformat_minor": 4
}
