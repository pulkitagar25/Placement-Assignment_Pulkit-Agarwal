{
 "cells": [
  {
   "cell_type": "markdown",
   "metadata": {},
   "source": [
    "Question 3: -\n",
    "Write a program, which would download the data from the provided link, and then read the data and convert\n",
    "that into properly structured data and return it in Excel format.\n",
    "Note - Write comments wherever necessary explaining the code written.\n",
    "Link - https://raw.githubusercontent.com/Biuni/PokemonGO-Pokedex/master/pokedex.json"
   ]
  },
  {
   "cell_type": "code",
   "execution_count": 1,
   "metadata": {},
   "outputs": [
    {
     "name": "stdout",
     "output_type": "stream",
     "text": [
      "Data downloaded and converted. Exported to pokemon_data1.xlsx.\n"
     ]
    }
   ],
   "source": [
    "import requests\n",
    "import json\n",
    "import pandas as pd\n",
    "\n",
    "def download_and_convert_data(url):\n",
    "    # Download the JSON data\n",
    "    response = requests.get(url)\n",
    "    data = response.json()\n",
    "\n",
    "    # Extract the required data attributes from the JSON\n",
    "    extracted_data = []\n",
    "    for pokemon in data['pokemon']:\n",
    "        extracted_data.append({\n",
    "            'id': pokemon.get('id', ''),\n",
    "            'num': pokemon.get('num', ''),\n",
    "            'name': pokemon.get('name', ''),\n",
    "            'img': pokemon.get('img', ''),\n",
    "            'type': ','.join(pokemon.get('type', [])),\n",
    "            'height': pokemon.get('height', ''),\n",
    "            'weight': pokemon.get('weight', ''),\n",
    "            'candy': pokemon.get('candy', ''),\n",
    "            'candy_count': pokemon.get('candy_count', ''),\n",
    "            'egg': pokemon.get('egg', ''),\n",
    "            'spawn_chance': pokemon.get('spawn_chance', ''),\n",
    "            'avg_spawns': pokemon.get('avg_spawns', ''),\n",
    "            'spawn_time': pokemon.get('spawn_time', ''),\n",
    "            'multipliers': ','.join(map(str, pokemon.get('multipliers', []))) if pokemon.get('multipliers') is not None else '',\n",
    "            'weakness': ','.join(pokemon.get('weaknesses', [])),\n",
    "            'next_evolution': ','.join([evolution.get('name', '') for evolution in pokemon.get('next_evolution', [])]),\n",
    "            'prev_evolution': ','.join([evolution.get('name', '') for evolution in pokemon.get('prev_evolution', [])])\n",
    "        })\n",
    "\n",
    "    # Convert the data to a DataFrame\n",
    "    df = pd.DataFrame(extracted_data)\n",
    "\n",
    "    # Export the data to an Excel file\n",
    "    output_file = 'pokemon_data1.xlsx'\n",
    "    df.to_excel(output_file, index=False)\n",
    "\n",
    "    return output_file\n",
    "\n",
    "\n",
    "# Example usage\n",
    "url = 'https://raw.githubusercontent.com/Biuni/PokemonGO-Pokedex/master/pokedex.json'\n",
    "output_file = download_and_convert_data(url)\n",
    "print(f'Data downloaded and converted. Exported to {output_file}.')\n"
   ]
  }
 ],
 "metadata": {
  "kernelspec": {
   "display_name": "Python 3",
   "language": "python",
   "name": "python3"
  },
  "language_info": {
   "codemirror_mode": {
    "name": "ipython",
    "version": 3
   },
   "file_extension": ".py",
   "mimetype": "text/x-python",
   "name": "python",
   "nbconvert_exporter": "python",
   "pygments_lexer": "ipython3",
   "version": "3.8.10"
  }
 },
 "nbformat": 4,
 "nbformat_minor": 4
}
