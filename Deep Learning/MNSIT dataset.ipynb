{
 "cells": [
  {
   "cell_type": "code",
   "execution_count": 1,
   "metadata": {},
   "outputs": [],
   "source": [
    "import tensorflow as tf\n",
    "from tensorflow.keras.datasets import mnist\n",
    "from tensorflow.keras.models import Sequential\n",
    "from tensorflow.keras.layers import Conv2D, MaxPooling2D, Flatten, Dense"
   ]
  },
  {
   "cell_type": "code",
   "execution_count": 2,
   "metadata": {},
   "outputs": [],
   "source": [
    "(x_train, y_train), (x_test, y_test) = mnist.load_data()"
   ]
  },
  {
   "cell_type": "code",
   "execution_count": 3,
   "metadata": {},
   "outputs": [],
   "source": [
    "# Normalize pixel values to range [0, 1]\n",
    "x_train = x_train.astype('float32') / 255.0\n",
    "x_test = x_test.astype('float32') / 255.0"
   ]
  },
  {
   "cell_type": "code",
   "execution_count": 4,
   "metadata": {},
   "outputs": [],
   "source": [
    "# Reshape the input data to add a channel dimension (required for CNN)\n",
    "x_train = x_train.reshape(-1, 28, 28, 1)\n",
    "x_test = x_test.reshape(-1, 28, 28, 1)"
   ]
  },
  {
   "cell_type": "code",
   "execution_count": 5,
   "metadata": {},
   "outputs": [],
   "source": [
    "# Define the first CNN architecture\n",
    "model1 = Sequential([\n",
    "    Conv2D(32, (3, 3), activation='relu', input_shape=(28, 28, 1)),\n",
    "    MaxPooling2D((2, 2)),\n",
    "    Flatten(),\n",
    "    Dense(128, activation='relu'),\n",
    "    Dense(10, activation='softmax')\n",
    "])"
   ]
  },
  {
   "cell_type": "code",
   "execution_count": 6,
   "metadata": {},
   "outputs": [
    {
     "name": "stdout",
     "output_type": "stream",
     "text": [
      "Epoch 1/10\n",
      "469/469 [==============================] - 17s 31ms/step - loss: 0.2127 - accuracy: 0.9394 - val_loss: 0.0741 - val_accuracy: 0.9749\n",
      "Epoch 2/10\n",
      "469/469 [==============================] - 15s 31ms/step - loss: 0.0651 - accuracy: 0.9814 - val_loss: 0.0558 - val_accuracy: 0.9815\n",
      "Epoch 3/10\n",
      "469/469 [==============================] - 15s 31ms/step - loss: 0.0436 - accuracy: 0.9870 - val_loss: 0.0589 - val_accuracy: 0.9804\n",
      "Epoch 4/10\n",
      "469/469 [==============================] - 14s 29ms/step - loss: 0.0328 - accuracy: 0.9900 - val_loss: 0.0444 - val_accuracy: 0.9847\n",
      "Epoch 5/10\n",
      "469/469 [==============================] - 16s 34ms/step - loss: 0.0246 - accuracy: 0.9925 - val_loss: 0.0410 - val_accuracy: 0.9863\n",
      "Epoch 6/10\n",
      "469/469 [==============================] - 20s 43ms/step - loss: 0.0183 - accuracy: 0.9945 - val_loss: 0.0384 - val_accuracy: 0.9877\n",
      "Epoch 7/10\n",
      "469/469 [==============================] - 19s 41ms/step - loss: 0.0134 - accuracy: 0.9959 - val_loss: 0.0405 - val_accuracy: 0.9863\n",
      "Epoch 8/10\n",
      "469/469 [==============================] - 18s 38ms/step - loss: 0.0100 - accuracy: 0.9970 - val_loss: 0.0449 - val_accuracy: 0.9860\n",
      "Epoch 9/10\n",
      "469/469 [==============================] - 17s 35ms/step - loss: 0.0077 - accuracy: 0.9977 - val_loss: 0.0404 - val_accuracy: 0.9867\n",
      "Epoch 10/10\n",
      "469/469 [==============================] - 16s 35ms/step - loss: 0.0064 - accuracy: 0.9980 - val_loss: 0.0467 - val_accuracy: 0.9863\n"
     ]
    },
    {
     "data": {
      "text/plain": [
       "<keras.callbacks.History at 0x171630ed7c0>"
      ]
     },
     "execution_count": 6,
     "metadata": {},
     "output_type": "execute_result"
    }
   ],
   "source": [
    "# Compile and train the model\n",
    "model1.compile(optimizer='adam', loss='sparse_categorical_crossentropy', metrics=['accuracy'])\n",
    "model1.fit(x_train, y_train, epochs=10, batch_size=128, validation_data=(x_test, y_test))"
   ]
  },
  {
   "cell_type": "code",
   "execution_count": 7,
   "metadata": {},
   "outputs": [
    {
     "name": "stdout",
     "output_type": "stream",
     "text": [
      "313/313 [==============================] - 2s 5ms/step - loss: 0.0467 - accuracy: 0.9863\n",
      "Model 1 Accuracy: 0.986299991607666\n"
     ]
    }
   ],
   "source": [
    "# Evaluate the model\n",
    "_, accuracy1 = model1.evaluate(x_test, y_test)\n",
    "print(\"Model 1 Accuracy:\", accuracy1)"
   ]
  },
  {
   "cell_type": "code",
   "execution_count": null,
   "metadata": {},
   "outputs": [],
   "source": []
  },
  {
   "cell_type": "code",
   "execution_count": 8,
   "metadata": {},
   "outputs": [],
   "source": [
    "# Define the second CNN architecture\n",
    "model2 = Sequential([\n",
    "    Conv2D(16, (3, 3), activation='relu', input_shape=(28, 28, 1)),\n",
    "    MaxPooling2D((2, 2)),\n",
    "    Conv2D(32, (3, 3), activation='relu'),\n",
    "    MaxPooling2D((2, 2)),\n",
    "    Flatten(),\n",
    "    Dense(128, activation='relu'),\n",
    "    Dense(10, activation='softmax')\n",
    "])"
   ]
  },
  {
   "cell_type": "code",
   "execution_count": 9,
   "metadata": {},
   "outputs": [
    {
     "name": "stdout",
     "output_type": "stream",
     "text": [
      "Epoch 1/10\n",
      "469/469 [==============================] - 21s 42ms/step - loss: 0.2652 - accuracy: 0.9223 - val_loss: 0.0745 - val_accuracy: 0.9757\n",
      "Epoch 2/10\n",
      "469/469 [==============================] - 19s 41ms/step - loss: 0.0742 - accuracy: 0.9775 - val_loss: 0.0552 - val_accuracy: 0.9806\n",
      "Epoch 3/10\n",
      "469/469 [==============================] - 19s 41ms/step - loss: 0.0529 - accuracy: 0.9835 - val_loss: 0.0412 - val_accuracy: 0.9856\n",
      "Epoch 4/10\n",
      "469/469 [==============================] - 21s 44ms/step - loss: 0.0406 - accuracy: 0.9876 - val_loss: 0.0366 - val_accuracy: 0.9881\n",
      "Epoch 5/10\n",
      "469/469 [==============================] - 20s 43ms/step - loss: 0.0336 - accuracy: 0.9894 - val_loss: 0.0365 - val_accuracy: 0.9884\n",
      "Epoch 6/10\n",
      "469/469 [==============================] - 16s 35ms/step - loss: 0.0282 - accuracy: 0.9915 - val_loss: 0.0332 - val_accuracy: 0.9881\n",
      "Epoch 7/10\n",
      "469/469 [==============================] - 15s 33ms/step - loss: 0.0237 - accuracy: 0.9922 - val_loss: 0.0286 - val_accuracy: 0.9908\n",
      "Epoch 8/10\n",
      "469/469 [==============================] - 16s 35ms/step - loss: 0.0188 - accuracy: 0.9940 - val_loss: 0.0361 - val_accuracy: 0.9890\n",
      "Epoch 9/10\n",
      "469/469 [==============================] - 18s 38ms/step - loss: 0.0161 - accuracy: 0.9948 - val_loss: 0.0408 - val_accuracy: 0.9869\n",
      "Epoch 10/10\n",
      "469/469 [==============================] - 19s 40ms/step - loss: 0.0146 - accuracy: 0.9955 - val_loss: 0.0345 - val_accuracy: 0.9889\n"
     ]
    },
    {
     "data": {
      "text/plain": [
       "<keras.callbacks.History at 0x171615ad460>"
      ]
     },
     "execution_count": 9,
     "metadata": {},
     "output_type": "execute_result"
    }
   ],
   "source": [
    "# Compile and train the model\n",
    "model2.compile(optimizer='adam', loss='sparse_categorical_crossentropy', metrics=['accuracy'])\n",
    "model2.fit(x_train, y_train, epochs=10, batch_size=128, validation_data=(x_test, y_test))"
   ]
  },
  {
   "cell_type": "code",
   "execution_count": 10,
   "metadata": {},
   "outputs": [
    {
     "name": "stdout",
     "output_type": "stream",
     "text": [
      "313/313 [==============================] - 2s 5ms/step - loss: 0.0345 - accuracy: 0.9889\n",
      "Model 2 Accuracy: 0.9889000058174133\n"
     ]
    }
   ],
   "source": [
    "# Evaluate the model\n",
    "_, accuracy2 = model2.evaluate(x_test, y_test)\n",
    "print(\"Model 2 Accuracy:\", accuracy2)"
   ]
  },
  {
   "cell_type": "code",
   "execution_count": 11,
   "metadata": {},
   "outputs": [],
   "source": [
    "# Define the third CNN architecture\n",
    "model3 = Sequential([\n",
    "    Conv2D(8, (3, 3), activation='relu', input_shape=(28, 28, 1)),\n",
    "    MaxPooling2D((2, 2)),\n",
    "    Conv2D(16, (3, 3), activation='relu'),\n",
    "    MaxPooling2D((2, 2)),\n",
    "    Flatten(),\n",
    "    Dense(64, activation='relu'),\n",
    "    Dense(10, activation='softmax')\n",
    "])\n",
    "\n",
    "\n"
   ]
  },
  {
   "cell_type": "code",
   "execution_count": 12,
   "metadata": {},
   "outputs": [
    {
     "name": "stdout",
     "output_type": "stream",
     "text": [
      "Epoch 1/10\n",
      "469/469 [==============================] - 14s 28ms/step - loss: 0.3198 - accuracy: 0.9135 - val_loss: 0.0963 - val_accuracy: 0.9716\n",
      "Epoch 2/10\n",
      "469/469 [==============================] - 12s 27ms/step - loss: 0.0924 - accuracy: 0.9719 - val_loss: 0.0627 - val_accuracy: 0.9794\n",
      "Epoch 3/10\n",
      "469/469 [==============================] - 12s 25ms/step - loss: 0.0678 - accuracy: 0.9795 - val_loss: 0.0537 - val_accuracy: 0.9823\n",
      "Epoch 4/10\n",
      "469/469 [==============================] - 11s 24ms/step - loss: 0.0575 - accuracy: 0.9825 - val_loss: 0.0484 - val_accuracy: 0.9843\n",
      "Epoch 5/10\n",
      "469/469 [==============================] - 12s 25ms/step - loss: 0.0493 - accuracy: 0.9843 - val_loss: 0.0462 - val_accuracy: 0.9839\n",
      "Epoch 6/10\n",
      "469/469 [==============================] - 12s 26ms/step - loss: 0.0441 - accuracy: 0.9863 - val_loss: 0.0441 - val_accuracy: 0.9858\n",
      "Epoch 7/10\n",
      "469/469 [==============================] - 13s 28ms/step - loss: 0.0381 - accuracy: 0.9883 - val_loss: 0.0396 - val_accuracy: 0.9873\n",
      "Epoch 8/10\n",
      "469/469 [==============================] - 11s 24ms/step - loss: 0.0341 - accuracy: 0.9896 - val_loss: 0.0444 - val_accuracy: 0.9843\n",
      "Epoch 9/10\n",
      "469/469 [==============================] - 12s 25ms/step - loss: 0.0326 - accuracy: 0.9896 - val_loss: 0.0393 - val_accuracy: 0.9872\n",
      "Epoch 10/10\n",
      "469/469 [==============================] - 12s 26ms/step - loss: 0.0272 - accuracy: 0.9913 - val_loss: 0.0411 - val_accuracy: 0.9879\n"
     ]
    },
    {
     "data": {
      "text/plain": [
       "<keras.callbacks.History at 0x171630c2430>"
      ]
     },
     "execution_count": 12,
     "metadata": {},
     "output_type": "execute_result"
    }
   ],
   "source": [
    "# Compile and train the model\n",
    "model3.compile(optimizer='adam', loss='sparse_categorical_crossentropy', metrics=['accuracy'])\n",
    "model3.fit(x_train, y_train, epochs=10, batch_size=128, validation_data=(x_test, y_test))\n"
   ]
  },
  {
   "cell_type": "code",
   "execution_count": 13,
   "metadata": {},
   "outputs": [
    {
     "name": "stdout",
     "output_type": "stream",
     "text": [
      "313/313 [==============================] - 1s 5ms/step - loss: 0.0411 - accuracy: 0.9879\n",
      "Model 3 Accuracy: 0.9879000186920166\n"
     ]
    }
   ],
   "source": [
    "# Evaluate the model\n",
    "_, accuracy3 = model3.evaluate(x_test, y_test)\n",
    "print(\"Model 3 Accuracy:\", accuracy3)"
   ]
  },
  {
   "cell_type": "code",
   "execution_count": null,
   "metadata": {},
   "outputs": [],
   "source": []
  },
  {
   "cell_type": "code",
   "execution_count": null,
   "metadata": {},
   "outputs": [],
   "source": []
  },
  {
   "cell_type": "code",
   "execution_count": null,
   "metadata": {},
   "outputs": [],
   "source": []
  }
 ],
 "metadata": {
  "kernelspec": {
   "display_name": "Python 3",
   "language": "python",
   "name": "python3"
  },
  "language_info": {
   "codemirror_mode": {
    "name": "ipython",
    "version": 3
   },
   "file_extension": ".py",
   "mimetype": "text/x-python",
   "name": "python",
   "nbconvert_exporter": "python",
   "pygments_lexer": "ipython3",
   "version": "3.8.10"
  }
 },
 "nbformat": 4,
 "nbformat_minor": 4
}
