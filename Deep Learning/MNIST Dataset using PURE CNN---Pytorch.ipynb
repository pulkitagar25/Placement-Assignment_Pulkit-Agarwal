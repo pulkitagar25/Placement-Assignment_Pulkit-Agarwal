{
 "cells": [
  {
   "cell_type": "code",
   "execution_count": 7,
   "metadata": {},
   "outputs": [],
   "source": [
    "import torch\n",
    "import torch.nn as nn\n",
    "import torch.optim as optim\n",
    "from torchvision.datasets import MNIST\n",
    "from torchvision.transforms import ToTensor\n",
    "from torch.utils.data import DataLoader\n"
   ]
  },
  {
   "cell_type": "code",
   "execution_count": 8,
   "metadata": {},
   "outputs": [],
   "source": [
    "# Define the CNN architecture\n",
    "class CNN(nn.Module):\n",
    "    def __init__(self):\n",
    "        super(CNN, self).__init__()\n",
    "        self.conv1 = nn.Conv2d(1, 4, kernel_size=3, stride=1, padding=1)\n",
    "        self.pool = nn.MaxPool2d(kernel_size=2, stride=2)\n",
    "        self.fc1 = nn.Linear(14 * 14 * 4, 10)\n",
    "\n",
    "    def forward(self, x):\n",
    "        x = self.conv1(x)\n",
    "        x = torch.relu(x)\n",
    "        x = self.pool(x)\n",
    "        x = x.view(-1, 14 * 14 * 4)\n",
    "        x = self.fc1(x)\n",
    "        return x"
   ]
  },
  {
   "cell_type": "code",
   "execution_count": 9,
   "metadata": {},
   "outputs": [
    {
     "data": {
      "text/plain": [
       "<torch._C.Generator at 0x1f37a944890>"
      ]
     },
     "execution_count": 9,
     "metadata": {},
     "output_type": "execute_result"
    }
   ],
   "source": [
    "# Set random seed for reproducibility\n",
    "torch.manual_seed(42)"
   ]
  },
  {
   "cell_type": "code",
   "execution_count": 10,
   "metadata": {},
   "outputs": [],
   "source": [
    "# Load the MNIST dataset\n",
    "train_dataset = MNIST(root='data/', train=True, transform=ToTensor(), download=True)\n",
    "test_dataset = MNIST(root='data/', train=False, transform=ToTensor(), download=True)"
   ]
  },
  {
   "cell_type": "code",
   "execution_count": 11,
   "metadata": {},
   "outputs": [],
   "source": [
    "# Define the dataloaders\n",
    "train_dataloader = DataLoader(train_dataset, batch_size=128, shuffle=True)\n",
    "test_dataloader = DataLoader(test_dataset, batch_size=128)"
   ]
  },
  {
   "cell_type": "code",
   "execution_count": 12,
   "metadata": {},
   "outputs": [],
   "source": [
    "# Create the CNN model\n",
    "model = CNN()"
   ]
  },
  {
   "cell_type": "code",
   "execution_count": 13,
   "metadata": {},
   "outputs": [
    {
     "name": "stdout",
     "output_type": "stream",
     "text": [
      "Number of trainable parameters: 7890\n"
     ]
    }
   ],
   "source": [
    "# Count the number of trainable parameters\n",
    "trainable_params = sum(p.numel() for p in model.parameters() if p.requires_grad)\n",
    "print(f\"Number of trainable parameters: {trainable_params}\")"
   ]
  },
  {
   "cell_type": "code",
   "execution_count": 14,
   "metadata": {},
   "outputs": [],
   "source": [
    "# Define the loss function and optimizer\n",
    "criterion = nn.CrossEntropyLoss()\n",
    "optimizer = optim.Adam(model.parameters(), lr=0.001)\n"
   ]
  },
  {
   "cell_type": "code",
   "execution_count": 17,
   "metadata": {},
   "outputs": [
    {
     "name": "stdout",
     "output_type": "stream",
     "text": [
      "Epoch [1/20], Step [100/469], Loss: 0.0776\n",
      "Epoch [1/20], Step [200/469], Loss: 0.0867\n",
      "Epoch [1/20], Step [300/469], Loss: 0.0851\n",
      "Epoch [1/20], Step [400/469], Loss: 0.1042\n",
      "Validation Accuracy: 96.33%\n",
      "Epoch [2/20], Step [100/469], Loss: 0.0673\n",
      "Epoch [2/20], Step [200/469], Loss: 0.0835\n",
      "Epoch [2/20], Step [300/469], Loss: 0.0490\n",
      "Epoch [2/20], Step [400/469], Loss: 0.0916\n",
      "Validation Accuracy: 96.54%\n",
      "Epoch [3/20], Step [100/469], Loss: 0.1212\n",
      "Epoch [3/20], Step [200/469], Loss: 0.0830\n",
      "Epoch [3/20], Step [300/469], Loss: 0.1227\n",
      "Epoch [3/20], Step [400/469], Loss: 0.1231\n",
      "Validation Accuracy: 96.88%\n",
      "Epoch [4/20], Step [100/469], Loss: 0.0485\n",
      "Epoch [4/20], Step [200/469], Loss: 0.0851\n",
      "Epoch [4/20], Step [300/469], Loss: 0.0455\n",
      "Epoch [4/20], Step [400/469], Loss: 0.1161\n",
      "Validation Accuracy: 96.96%\n",
      "Epoch [5/20], Step [100/469], Loss: 0.0633\n",
      "Epoch [5/20], Step [200/469], Loss: 0.0448\n",
      "Epoch [5/20], Step [300/469], Loss: 0.0454\n",
      "Epoch [5/20], Step [400/469], Loss: 0.1411\n",
      "Validation Accuracy: 97.01%\n",
      "Epoch [6/20], Step [100/469], Loss: 0.1057\n",
      "Epoch [6/20], Step [200/469], Loss: 0.1135\n",
      "Epoch [6/20], Step [300/469], Loss: 0.0990\n",
      "Epoch [6/20], Step [400/469], Loss: 0.0864\n",
      "Validation Accuracy: 97.13%\n",
      "Epoch [7/20], Step [100/469], Loss: 0.0417\n",
      "Epoch [7/20], Step [200/469], Loss: 0.0345\n",
      "Epoch [7/20], Step [300/469], Loss: 0.0694\n",
      "Epoch [7/20], Step [400/469], Loss: 0.1203\n",
      "Validation Accuracy: 97.00%\n",
      "Epoch [8/20], Step [100/469], Loss: 0.1162\n",
      "Epoch [8/20], Step [200/469], Loss: 0.0678\n",
      "Epoch [8/20], Step [300/469], Loss: 0.0865\n",
      "Epoch [8/20], Step [400/469], Loss: 0.0395\n",
      "Validation Accuracy: 97.15%\n",
      "Epoch [9/20], Step [100/469], Loss: 0.0523\n",
      "Epoch [9/20], Step [200/469], Loss: 0.0528\n",
      "Epoch [9/20], Step [300/469], Loss: 0.0462\n",
      "Epoch [9/20], Step [400/469], Loss: 0.0750\n",
      "Validation Accuracy: 97.23%\n",
      "Epoch [10/20], Step [100/469], Loss: 0.0918\n",
      "Epoch [10/20], Step [200/469], Loss: 0.0970\n",
      "Epoch [10/20], Step [300/469], Loss: 0.0452\n",
      "Epoch [10/20], Step [400/469], Loss: 0.0586\n",
      "Validation Accuracy: 97.32%\n",
      "Epoch [11/20], Step [100/469], Loss: 0.0246\n",
      "Epoch [11/20], Step [200/469], Loss: 0.0747\n",
      "Epoch [11/20], Step [300/469], Loss: 0.0666\n",
      "Epoch [11/20], Step [400/469], Loss: 0.0389\n",
      "Validation Accuracy: 97.43%\n",
      "Epoch [12/20], Step [100/469], Loss: 0.0868\n",
      "Epoch [12/20], Step [200/469], Loss: 0.0277\n",
      "Epoch [12/20], Step [300/469], Loss: 0.0108\n",
      "Epoch [12/20], Step [400/469], Loss: 0.1002\n",
      "Validation Accuracy: 97.39%\n",
      "Epoch [13/20], Step [100/469], Loss: 0.0788\n",
      "Epoch [13/20], Step [200/469], Loss: 0.1014\n",
      "Epoch [13/20], Step [300/469], Loss: 0.0242\n",
      "Epoch [13/20], Step [400/469], Loss: 0.0236\n",
      "Validation Accuracy: 97.45%\n",
      "Epoch [14/20], Step [100/469], Loss: 0.0456\n",
      "Epoch [14/20], Step [200/469], Loss: 0.0749\n",
      "Epoch [14/20], Step [300/469], Loss: 0.0448\n",
      "Epoch [14/20], Step [400/469], Loss: 0.0987\n",
      "Validation Accuracy: 97.47%\n",
      "Epoch [15/20], Step [100/469], Loss: 0.0156\n",
      "Epoch [15/20], Step [200/469], Loss: 0.0388\n",
      "Epoch [15/20], Step [300/469], Loss: 0.0670\n",
      "Epoch [15/20], Step [400/469], Loss: 0.0264\n",
      "Validation Accuracy: 97.46%\n",
      "Epoch [16/20], Step [100/469], Loss: 0.0189\n",
      "Epoch [16/20], Step [200/469], Loss: 0.0710\n",
      "Epoch [16/20], Step [300/469], Loss: 0.0342\n",
      "Epoch [16/20], Step [400/469], Loss: 0.0680\n",
      "Validation Accuracy: 97.67%\n",
      "Epoch [17/20], Step [100/469], Loss: 0.0216\n",
      "Epoch [17/20], Step [200/469], Loss: 0.0608\n",
      "Epoch [17/20], Step [300/469], Loss: 0.1198\n",
      "Epoch [17/20], Step [400/469], Loss: 0.0285\n",
      "Validation Accuracy: 97.62%\n",
      "Epoch [18/20], Step [100/469], Loss: 0.0426\n",
      "Epoch [18/20], Step [200/469], Loss: 0.0317\n",
      "Epoch [18/20], Step [300/469], Loss: 0.0547\n",
      "Epoch [18/20], Step [400/469], Loss: 0.0937\n",
      "Validation Accuracy: 97.58%\n",
      "Epoch [19/20], Step [100/469], Loss: 0.0427\n",
      "Epoch [19/20], Step [200/469], Loss: 0.0360\n",
      "Epoch [19/20], Step [300/469], Loss: 0.0722\n",
      "Epoch [19/20], Step [400/469], Loss: 0.0442\n",
      "Validation Accuracy: 97.64%\n",
      "Epoch [20/20], Step [100/469], Loss: 0.0622\n",
      "Epoch [20/20], Step [200/469], Loss: 0.0858\n",
      "Epoch [20/20], Step [300/469], Loss: 0.0117\n",
      "Epoch [20/20], Step [400/469], Loss: 0.0283\n",
      "Validation Accuracy: 97.69%\n",
      "Best Validation Accuracy: 97.69%\n"
     ]
    }
   ],
   "source": [
    "# Train the model\n",
    "# Train the model\n",
    "device = torch.device(\"cuda\" if torch.cuda.is_available() else \"cpu\")\n",
    "model.to(device)\n",
    "model.train()\n",
    "\n",
    "num_epochs = 20\n",
    "best_accuracy = 0.0\n",
    "patience = 5  # Number of epochs without improvement to trigger early stopping\n",
    "counter = 0  # Counter for early stopping\n",
    "for epoch in range(num_epochs):\n",
    "    for i, (images, labels) in enumerate(train_dataloader):\n",
    "        images = images.to(device)\n",
    "        labels = labels.to(device)\n",
    "\n",
    "        optimizer.zero_grad()\n",
    "        outputs = model(images)\n",
    "        loss = criterion(outputs, labels)\n",
    "        loss.backward()\n",
    "        optimizer.step()\n",
    "\n",
    "        if (i + 1) % 100 == 0:\n",
    "            print(f\"Epoch [{epoch + 1}/{num_epochs}], Step [{i + 1}/{len(train_dataloader)}], Loss: {loss.item():.4f}\")\n",
    "\n",
    "    # Evaluate the model on the validation set\n",
    "    model.eval()\n",
    "    correct = 0\n",
    "    total = 0\n",
    "\n",
    "    with torch.no_grad():\n",
    "        for images, labels in test_dataloader:\n",
    "            images = images.to(device)\n",
    "            labels = labels.to(device)\n",
    "\n",
    "            outputs = model(images)\n",
    "            _, predicted = torch.max(outputs.data, 1)\n",
    "\n",
    "            total += labels.size(0)\n",
    "            correct += (predicted == labels).sum().item()\n",
    "\n",
    "    accuracy = 100 * correct / total\n",
    "    print(f\"Validation Accuracy: {accuracy:.2f}%\")\n",
    "\n",
    "    # Check if the current accuracy is better than the previous best accuracy\n",
    "    if accuracy > best_accuracy:\n",
    "        best_accuracy = accuracy\n",
    "        counter = 0\n",
    "        # Save the model weights\n",
    "        torch.save(model.state_dict(), 'best_model.pth')\n",
    "    else:\n",
    "        counter += 1\n",
    "\n",
    "    # Check if early stopping criteria is met\n",
    "    if counter >= patience:\n",
    "        print(\"Early stopping triggered.\")\n",
    "        break\n",
    "\n",
    "    model.train()\n",
    "\n",
    "print(f\"Best Validation Accuracy: {best_accuracy:.2f}%\")"
   ]
  },
  {
   "cell_type": "code",
   "execution_count": null,
   "metadata": {},
   "outputs": [],
   "source": []
  }
 ],
 "metadata": {
  "kernelspec": {
   "display_name": "Python 3",
   "language": "python",
   "name": "python3"
  },
  "language_info": {
   "codemirror_mode": {
    "name": "ipython",
    "version": 3
   },
   "file_extension": ".py",
   "mimetype": "text/x-python",
   "name": "python",
   "nbconvert_exporter": "python",
   "pygments_lexer": "ipython3",
   "version": "3.8.10"
  }
 },
 "nbformat": 4,
 "nbformat_minor": 4
}
