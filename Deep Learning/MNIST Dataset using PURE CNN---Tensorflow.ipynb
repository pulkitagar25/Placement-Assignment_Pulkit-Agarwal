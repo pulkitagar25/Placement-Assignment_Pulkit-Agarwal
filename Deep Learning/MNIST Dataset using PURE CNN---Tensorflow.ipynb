{
 "cells": [
  {
   "cell_type": "code",
   "execution_count": 1,
   "metadata": {},
   "outputs": [],
   "source": [
    "import tensorflow as tf\n",
    "from tensorflow.keras.datasets import mnist\n",
    "from tensorflow.keras.models import Sequential\n",
    "from tensorflow.keras.layers import Conv2D, MaxPooling2D, Flatten, Dense"
   ]
  },
  {
   "cell_type": "code",
   "execution_count": 2,
   "metadata": {},
   "outputs": [],
   "source": [
    "# Load the MNIST dataset\n",
    "(train_images, train_labels), (test_images, test_labels) = mnist.load_data()\n"
   ]
  },
  {
   "cell_type": "code",
   "execution_count": 3,
   "metadata": {},
   "outputs": [],
   "source": [
    "# Normalize pixel values to the range of 0 and 1\n",
    "train_images = train_images / 255.0\n",
    "test_images = test_images / 255.0"
   ]
  },
  {
   "cell_type": "code",
   "execution_count": 4,
   "metadata": {},
   "outputs": [],
   "source": [
    "# Reshape the input images to include a single channel\n",
    "train_images = train_images.reshape(-1, 28, 28, 1)\n",
    "test_images = test_images.reshape(-1, 28, 28, 1)\n"
   ]
  },
  {
   "cell_type": "code",
   "execution_count": 5,
   "metadata": {},
   "outputs": [],
   "source": [
    "# Define the CNN architecture\n",
    "model = Sequential()\n",
    "model.add(Conv2D(8, kernel_size=(3, 3), activation='relu', input_shape=(28, 28, 1)))\n",
    "model.add(MaxPooling2D(pool_size=(2, 2)))\n",
    "model.add(Conv2D(8, kernel_size=(3, 3), activation='relu'))\n",
    "model.add(MaxPooling2D(pool_size=(2, 2)))\n",
    "model.add(Flatten())\n",
    "model.add(Dense(16, activation='relu'))\n",
    "model.add(Dense(10, activation='softmax'))\n"
   ]
  },
  {
   "cell_type": "code",
   "execution_count": 6,
   "metadata": {},
   "outputs": [
    {
     "name": "stdout",
     "output_type": "stream",
     "text": [
      "Number of trainable parameters: 4050\n"
     ]
    }
   ],
   "source": [
    "# Count the number of trainable parameters\n",
    "trainable_params = sum([tf.keras.backend.count_params(w) for w in model.trainable_weights])\n",
    "print(f\"Number of trainable parameters: {trainable_params}\")\n"
   ]
  },
  {
   "cell_type": "code",
   "execution_count": 7,
   "metadata": {},
   "outputs": [],
   "source": [
    "# Compile the model\n",
    "model.compile(optimizer='adam', loss='sparse_categorical_crossentropy', metrics=['accuracy'])\n"
   ]
  },
  {
   "cell_type": "code",
   "execution_count": 8,
   "metadata": {},
   "outputs": [
    {
     "name": "stdout",
     "output_type": "stream",
     "text": [
      "Epoch 1/20\n",
      "422/422 [==============================] - 8s 19ms/step - loss: 0.6288 - accuracy: 0.8069 - val_loss: 0.2023 - val_accuracy: 0.9427\n",
      "Epoch 2/20\n",
      "422/422 [==============================] - 8s 19ms/step - loss: 0.2030 - accuracy: 0.9387 - val_loss: 0.1261 - val_accuracy: 0.9643\n",
      "Epoch 3/20\n",
      "422/422 [==============================] - 8s 19ms/step - loss: 0.1385 - accuracy: 0.9572 - val_loss: 0.0975 - val_accuracy: 0.9722\n",
      "Epoch 4/20\n",
      "422/422 [==============================] - 8s 20ms/step - loss: 0.1097 - accuracy: 0.9661 - val_loss: 0.0894 - val_accuracy: 0.9763\n",
      "Epoch 5/20\n",
      "422/422 [==============================] - 9s 22ms/step - loss: 0.0931 - accuracy: 0.9713 - val_loss: 0.0789 - val_accuracy: 0.9780\n",
      "Epoch 6/20\n",
      "422/422 [==============================] - 11s 27ms/step - loss: 0.0832 - accuracy: 0.9743 - val_loss: 0.0716 - val_accuracy: 0.9810\n",
      "Epoch 7/20\n",
      "422/422 [==============================] - 12s 29ms/step - loss: 0.0766 - accuracy: 0.9764 - val_loss: 0.0723 - val_accuracy: 0.9800\n",
      "Epoch 8/20\n",
      "422/422 [==============================] - 11s 26ms/step - loss: 0.0716 - accuracy: 0.9776 - val_loss: 0.0682 - val_accuracy: 0.9813\n",
      "Epoch 9/20\n",
      "422/422 [==============================] - 10s 23ms/step - loss: 0.0676 - accuracy: 0.9790 - val_loss: 0.0708 - val_accuracy: 0.9810\n",
      "Epoch 10/20\n",
      "422/422 [==============================] - 9s 22ms/step - loss: 0.0634 - accuracy: 0.9805 - val_loss: 0.0666 - val_accuracy: 0.9812\n",
      "Epoch 11/20\n",
      "422/422 [==============================] - 9s 22ms/step - loss: 0.0608 - accuracy: 0.9811 - val_loss: 0.0591 - val_accuracy: 0.9833\n",
      "Epoch 12/20\n",
      "422/422 [==============================] - 9s 22ms/step - loss: 0.0574 - accuracy: 0.9825 - val_loss: 0.0641 - val_accuracy: 0.9827\n",
      "Epoch 13/20\n",
      "422/422 [==============================] - 9s 21ms/step - loss: 0.0561 - accuracy: 0.9822 - val_loss: 0.0577 - val_accuracy: 0.9842\n",
      "Epoch 14/20\n",
      "422/422 [==============================] - 10s 23ms/step - loss: 0.0534 - accuracy: 0.9830 - val_loss: 0.0539 - val_accuracy: 0.9848\n",
      "Epoch 15/20\n",
      "422/422 [==============================] - 10s 23ms/step - loss: 0.0518 - accuracy: 0.9839 - val_loss: 0.0555 - val_accuracy: 0.9840\n",
      "Epoch 16/20\n",
      "422/422 [==============================] - 10s 23ms/step - loss: 0.0510 - accuracy: 0.9840 - val_loss: 0.0532 - val_accuracy: 0.9847\n",
      "Epoch 17/20\n",
      "422/422 [==============================] - 10s 23ms/step - loss: 0.0491 - accuracy: 0.9848 - val_loss: 0.0532 - val_accuracy: 0.9853\n",
      "Epoch 18/20\n",
      "422/422 [==============================] - 11s 26ms/step - loss: 0.0483 - accuracy: 0.9847 - val_loss: 0.0535 - val_accuracy: 0.9857\n",
      "Epoch 19/20\n",
      "422/422 [==============================] - 11s 27ms/step - loss: 0.0464 - accuracy: 0.9856 - val_loss: 0.0519 - val_accuracy: 0.9853\n",
      "Epoch 20/20\n",
      "422/422 [==============================] - 11s 26ms/step - loss: 0.0446 - accuracy: 0.9862 - val_loss: 0.0527 - val_accuracy: 0.9848\n"
     ]
    }
   ],
   "source": [
    "# Train the model\n",
    "history = model.fit(train_images, train_labels, epochs=20, batch_size=128, validation_split=0.1)\n"
   ]
  },
  {
   "cell_type": "code",
   "execution_count": 9,
   "metadata": {},
   "outputs": [
    {
     "name": "stdout",
     "output_type": "stream",
     "text": [
      "313/313 [==============================] - 1s 5ms/step - loss: 0.0464 - accuracy: 0.9852\n",
      "Test Accuracy: 98.52%\n"
     ]
    }
   ],
   "source": [
    "\n",
    "# Evaluate the model\n",
    "_, test_accuracy = model.evaluate(test_images, test_labels)\n",
    "print(f\"Test Accuracy: {test_accuracy*100:.2f}%\")"
   ]
  }
 ],
 "metadata": {
  "kernelspec": {
   "display_name": "Python 3",
   "language": "python",
   "name": "python3"
  },
  "language_info": {
   "codemirror_mode": {
    "name": "ipython",
    "version": 3
   },
   "file_extension": ".py",
   "mimetype": "text/x-python",
   "name": "python",
   "nbconvert_exporter": "python",
   "pygments_lexer": "ipython3",
   "version": "3.8.10"
  }
 },
 "nbformat": 4,
 "nbformat_minor": 4
}
